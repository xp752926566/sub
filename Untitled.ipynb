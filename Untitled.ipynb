{
 "cells": [
  {
   "cell_type": "code",
   "execution_count": 3,
   "metadata": {},
   "outputs": [
    {
     "name": "stdout",
     "output_type": "stream",
     "text": [
      "A + B = [5 7 9]\n",
      "A-B= [-3 -3 -3]\n"
     ]
    }
   ],
   "source": [
    "import numpy as np  #numpy 定义了矩阵数值计算的基础\n",
    " #np.add(加法)  np.subtract(减法)  nb.dot  nb.matmul(C,D) ## C&D  \n",
    "                        #nb.mutiply(C,D)##C'D（元素与元素相乘，等于 C*D）\n",
    "A = np.array([1,2,3])\n",
    "B = np.array([4,5,6])\n",
    "print('A + B =',np.add(A,B))\n",
    "print('A-B=',np.subtract(A,B))"
   ]
  },
  {
   "cell_type": "code",
   "execution_count": null,
   "metadata": {},
   "outputs": [],
   "source": [
    "import numpy as np\n",
    "A = np.array([[1,2,3],[2,3,4]])\n",
    "B = np.array([[4,5,6],\n",
    "            [4,5,7],\n",
    "            [3,6,2]])\n",
    "print('np.dot(A,B)=',np.dot(A,B))      # np.dot(A,B)、np.matmul(A,B)、A&B表示A数组的第一行与B数组的每一列相乘并相加，\n",
    "                                        #结果格式与A数组相同（矩阵的乘积）\n",
    "print('np.matmul(A,B)=',np.matmul(A,B))\n",
    "print('A&B=',np.matmul(A,B))"
   ]
  },
  {
   "cell_type": "code",
   "execution_count": null,
   "metadata": {},
   "outputs": [],
   "source": [
    "![5.jpg](attachment:5.jpg)"
   ]
  },
  {
   "cell_type": "markdown",
   "metadata": {},
   "source": []
  }
 ],
 "metadata": {
  "kernelspec": {
   "display_name": "Python 3",
   "language": "python",
   "name": "python3"
  },
  "language_info": {
   "codemirror_mode": {
    "name": "ipython",
    "version": 3
   },
   "file_extension": ".py",
   "mimetype": "text/x-python",
   "name": "python",
   "nbconvert_exporter": "python",
   "pygments_lexer": "ipython3",
   "version": "3.7.0"
  }
 },
 "nbformat": 4,
 "nbformat_minor": 2
}
